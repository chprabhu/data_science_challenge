{
 "metadata": {
  "name": "",
  "signature": "sha256:d993de6a12eb2e7d9c5a9461a279487a1072b1bacb87a026794557ee32b5b225"
 },
 "nbformat": 3,
 "nbformat_minor": 0,
 "worksheets": [
  {
   "cells": [
    {
     "cell_type": "heading",
     "level": 1,
     "metadata": {},
     "source": [
      "Objective"
     ]
    },
    {
     "cell_type": "markdown",
     "metadata": {},
     "source": [
      "The objective of this analysis is to evaluate the CEO's hypothesis that there is a relationship between a user's age and their likelihood of placing an order. My goal is to examine if such a relationship exists, and to ultimately identify the relationship that would best help predict weekly demand for fish."
     ]
    },
    {
     "cell_type": "heading",
     "level": 1,
     "metadata": {},
     "source": [
      "Data Exploration"
     ]
    },
    {
     "cell_type": "markdown",
     "metadata": {},
     "source": [
      "Prior to doing any analysis, I like to explore the data and create some quick plots so that I can draw some preliminary conclusions and ensure that I understand how the data is structured and that is makes sense to me."
     ]
    },
    {
     "cell_type": "heading",
     "level": 4,
     "metadata": {},
     "source": [
      "Reading in the data:"
     ]
    },
    {
     "cell_type": "code",
     "collapsed": false,
     "input": [
      "%matplotlib inline\n",
      "import numpy as np\n",
      "import pandas as pd\n",
      "import matplotlib.pyplot as plt\n",
      "\n",
      "user_pop = pd.read_csv('C:/Users/cprab/Desktop/blue_apron_data_science_challenge/weekly_user_population.csv')\n",
      "week_orders = pd.read_csv('C:/Users/cprab/Desktop/blue_apron_data_science_challenge/weekly_orders.csv')\n",
      "user_fulf_hist = pd.read_csv('C:/Users/cprab/Desktop/blue_apron_data_science_challenge/user_fulfillment_history.csv')"
     ],
     "language": "python",
     "metadata": {},
     "outputs": [],
     "prompt_number": 1
    },
    {
     "cell_type": "heading",
     "level": 4,
     "metadata": {},
     "source": [
      "Data Inconsistencies"
     ]
    },
    {
     "cell_type": "markdown",
     "metadata": {},
     "source": [
      "During data exploration, I plucked a handful of user_ids and investigated their order history. I found some inconsistencies that caused concern. Below is an example, using user_id = '410a93f1ab1818d037d93ff47bb2c3f9d4682b8d'. According to the weekly_user_population dataset, this person had one previous order by the time they were 6 weeks \"old\". However, if you look at the user_fulf_hist table, this person did not have a single shipment in their first 6 weeks as a member."
     ]
    },
    {
     "cell_type": "code",
     "collapsed": false,
     "input": [
      "print user_pop[user_pop['user_id']=='0000982547d46efe310eb0fe9b36f4afd35a2380'].sort('week_id')\n",
      "print user_fulf_hist[user_fulf_hist['user_id']=='0000982547d46efe310eb0fe9b36f4afd35a2380'].sort('week_index')"
     ],
     "language": "python",
     "metadata": {},
     "outputs": [
      {
       "output_type": "stream",
       "stream": "stdout",
       "text": [
        "       week_id                                   user_id  user_age  \\\n",
        "846159       A  0000982547d46efe310eb0fe9b36f4afd35a2380         6   \n",
        "846161       B  0000982547d46efe310eb0fe9b36f4afd35a2380         7   \n",
        "846158       C  0000982547d46efe310eb0fe9b36f4afd35a2380         8   \n",
        "846164       D  0000982547d46efe310eb0fe9b36f4afd35a2380         9   \n",
        "846162       E  0000982547d46efe310eb0fe9b36f4afd35a2380        10   \n",
        "846165       F  0000982547d46efe310eb0fe9b36f4afd35a2380        11   \n",
        "846160       G  0000982547d46efe310eb0fe9b36f4afd35a2380        12   \n",
        "846166       H  0000982547d46efe310eb0fe9b36f4afd35a2380        13   \n",
        "846163       I  0000982547d46efe310eb0fe9b36f4afd35a2380        14   \n",
        "\n",
        "        prev_orders  \n",
        "846159            1  \n",
        "846161            1  \n",
        "846158            1  \n",
        "846164            1  \n",
        "846162            1  \n",
        "846165            1  \n",
        "846160            1  \n",
        "846166            1  \n",
        "846163            1  \n",
        "                                          user_id  week_index  was_shipped\n",
        "1309860  0000982547d46efe310eb0fe9b36f4afd35a2380           1            0\n",
        "743209   0000982547d46efe310eb0fe9b36f4afd35a2380           2            0\n",
        "1271505  0000982547d46efe310eb0fe9b36f4afd35a2380           3            0\n",
        "274769   0000982547d46efe310eb0fe9b36f4afd35a2380           4            0\n",
        "148479   0000982547d46efe310eb0fe9b36f4afd35a2380           5            0\n",
        "311633   0000982547d46efe310eb0fe9b36f4afd35a2380           6            0\n",
        "1168503  0000982547d46efe310eb0fe9b36f4afd35a2380           7            0\n",
        "287522   0000982547d46efe310eb0fe9b36f4afd35a2380           8            0\n",
        "617264   0000982547d46efe310eb0fe9b36f4afd35a2380           9            0\n",
        "668258   0000982547d46efe310eb0fe9b36f4afd35a2380          10            0"
       ]
      },
      {
       "output_type": "stream",
       "stream": "stdout",
       "text": [
        "\n"
       ]
      }
     ],
     "prompt_number": 2
    },
    {
     "cell_type": "markdown",
     "metadata": {},
     "source": [
      "At this point, I would reach out to the data engineering team to ensure that I understand the structure of the data before proceeding. In this instance, I felt that I could proceed with answering the questions from my objective statement by just utilizing the weekly_user_population dataset. This dataset is an 11 week snapshot of user behavior that has a broad range of user ages to model with. The user_fullfilment_history dataset only contains the first 10 weeks of a customer's lifespan, and models built on this dataset may not generalize well. If I had more confidence in the consistency of information between these 2 datasets, I would have tried to combine the two in order to maximize the amount of information in my training data."
     ]
    },
    {
     "cell_type": "heading",
     "level": 1,
     "metadata": {},
     "source": [
      "Feature Engineering"
     ]
    },
    {
     "cell_type": "markdown",
     "metadata": {},
     "source": [
      "First, I will attempt to answer the CEO's question regarding whether or not demand is a function of the \"age\" of the user. \"Age\" does not take into consideration how engaged a customer is, however. The CEO's thinking is that the longer a customer has been a member, the higher the likelihood that they are to place an order. \"Engagement\" or \"Utilization\" may be a better dependent variable, however. It can be hypothesized that a customer that is 100 weeks old, but has only placed 1 order, is less likely to place an order in week 101, that a customer that is only 10 weeks old, but has placed 9 orders in those past 10 weeks."
     ]
    },
    {
     "cell_type": "markdown",
     "metadata": {},
     "source": [
      "Using the weekly_user_population snapshot data, I will \"engineer\" two new variables - 'order_ind', and 'utilization'. Order_Ind will look ahead at the next week to see if the customer actually placed an order in the current week. A value of '1' will indicate that an order was placed, and '0' indicates that an order was not placed. Utilization will calculate the utilization or \"engagement\" of the customer in a given week. For example, if, in week 11, the customer has 7 previous orders, his or her utilization will be 7 divided by 10, which is 0.7 or 70%. Note that in week 11, the customer has had only 10 chances to place an order, therefore the utilization calculation is 7 divided by 10, not 7 divided by 11."
     ]
    },
    {
     "cell_type": "code",
     "collapsed": false,
     "input": [
      "import numpy as np\n",
      "import pandas as pd\n",
      "\n",
      "# Read in the weekly_user_population data\n",
      "df1 = pd.read_csv('C:/Users/cprab/Desktop/blue_apron_data_science_challenge/weekly_user_population.csv')\n",
      "\n",
      "# Create a copy to join itself with\n",
      "df2 = df1.copy(deep=True)\n",
      "\n",
      "# In order to create the order_ind variable, create an 'age_join' variable to join df1 and df2. In df1, age_join is the user_age+1\n",
      "df1['age_join'] = df1['user_age']+1\n",
      "df2['age_join'] = df2['user_age']\n",
      "\n",
      "# Create a new master_df dataframe, that is an inner join of df1 with df2, on user_id and age_join\n",
      "master_df = pd.merge(df1, df2, on=['user_id', 'age_join'], how='inner')\n",
      "\n",
      "# Create the order_ind variable, which is the difference in previous orders from one week ahead and the current week\n",
      "master_df['order_ind'] = master_df['prev_orders_y'] - master_df['prev_orders_x']\n",
      "\n",
      "# Create the utilization variable. In order to do this, remove any records where the user_age=1. We cannot compute the \n",
      "# utilization in a customer's first week. \n",
      "# In the final model to forecast demand, predict anyone with user_age = 1 with order_ind = 1. A predictive model is not required\n",
      "# for these customers.\n",
      "master_df = master_df[master_df['user_age_x'] != 1]\n",
      "master_df['utilization'] = master_df['prev_orders_x'] / (master_df['user_age_x']-1)\n",
      "\n",
      "# Size of final dataframe\n",
      "print(master_df.shape)\n",
      "\n",
      "# Brief look at the records\n",
      "print(master_df.head())"
     ],
     "language": "python",
     "metadata": {},
     "outputs": [
      {
       "output_type": "stream",
       "stream": "stdout",
       "text": [
        "(1117763, 10)\n",
        "  week_id_x                                   user_id  user_age_x  \\\n",
        "0         C  4b86c389a12ec798d5e0045037352254f609f0dc           7   \n",
        "1         F  4b86c389a12ec798d5e0045037352254f609f0dc          10   \n",
        "2         B  4b86c389a12ec798d5e0045037352254f609f0dc           6   \n",
        "3         D  4b86c389a12ec798d5e0045037352254f609f0dc           8   \n",
        "4         A  4b86c389a12ec798d5e0045037352254f609f0dc           5   \n",
        "\n",
        "   prev_orders_x  age_join week_id_y  user_age_y  prev_orders_y  order_ind  \\\n",
        "0              1         8         D           8              1          0   \n",
        "1              1        11         G          11              1          0   \n",
        "2              1         7         C           7              1          0   \n",
        "3              1         9         E           9              1          0   \n",
        "4              1         6         B           6              1          0   \n",
        "\n",
        "   utilization  \n",
        "0     0.166667  \n",
        "1     0.111111  \n",
        "2     0.200000  \n",
        "3     0.142857  \n",
        "4     0.250000  \n"
       ]
      }
     ],
     "prompt_number": 3
    },
    {
     "cell_type": "code",
     "collapsed": false,
     "input": [
      "# Grouping by user_age and summing and counting order_ind in order to calculate the order rate by user_age\n",
      "summary = master_df.groupby('user_age_x').agg({'order_ind':[np.sum, np.size]})"
     ],
     "language": "python",
     "metadata": {},
     "outputs": [],
     "prompt_number": 4
    },
    {
     "cell_type": "code",
     "collapsed": false,
     "input": [
      "order_rate = summary[summary.columns.values[0]] / summary[summary.columns.values[1]]\n",
      "user_age = order_rate.index.values"
     ],
     "language": "python",
     "metadata": {},
     "outputs": []
    },
    {
     "cell_type": "code",
     "collapsed": false,
     "input": [
      "plt.plot(user_age, order_rate)\n",
      "plt.xlabel('Customer Age')\n",
      "plt.ylabel('Order Rate')\n",
      "plt.title('Order Rate by Customer Age')\n",
      "plt.show()"
     ],
     "language": "python",
     "metadata": {},
     "outputs": [
      {
       "metadata": {},
       "output_type": "display_data",
       "png": "[encoded data removed]",
       "text": [
        "<matplotlib.figure.Figure at 0x95b7790>"
       ]
      }
     ],
     "prompt_number": 6
    },
    {
     "cell_type": "markdown",
     "metadata": {},
     "source": [
      "Based on this plot, customer age is not a great indicator of a customer's likelihood to order fish. Roughly speaking, between the age of 10 and 130, the order rate of a customer stays within a band of 25%-35%. The high order rates early on are indicative of the customer still just trying out the service. After 130 weeks, the reduced number of data points account for the noise that you see."
     ]
    },
    {
     "cell_type": "code",
     "collapsed": false,
     "input": [
      "print summary.tail(10)"
     ],
     "language": "python",
     "metadata": {},
     "outputs": [
      {
       "output_type": "stream",
       "stream": "stdout",
       "text": [
        "            order_ind      \n",
        "                  sum  size\n",
        "user_age_x                 \n",
        "127                26    79\n",
        "128                24    77\n",
        "129                26    67\n",
        "130                18    57\n",
        "131                12    26\n",
        "132                 8    19\n",
        "133                10    16\n",
        "134                 5    14\n",
        "135                 8    14\n",
        "136                 7    11\n"
       ]
      }
     ],
     "prompt_number": 7
    },
    {
     "cell_type": "markdown",
     "metadata": {},
     "source": [
      "Now, let's see what a similar graph looks like, but with Utilization across the x-axis"
     ]
    },
    {
     "cell_type": "code",
     "collapsed": false,
     "input": [
      "# Set up a new variable for utilization group (0-10%, 10-20%, 20-30%, etc) to be used for a bar chart later on\n",
      "def label_group(row):\n",
      "    if row['utilization'] >= 0 and row['utilization'] < 0.1:\n",
      "        return 1\n",
      "    elif row['utilization'] >= 0.1 and row['utilization'] < 0.2:\n",
      "        return 2\n",
      "    elif row['utilization'] >= 0.2 and row['utilization'] < 0.3:\n",
      "        return 3\n",
      "    elif row['utilization'] >= 0.3 and row['utilization'] < 0.4:\n",
      "        return 4\n",
      "    elif row['utilization'] >= 0.4 and row['utilization'] < 0.5:\n",
      "        return 5\n",
      "    elif row['utilization'] >= 0.5 and row['utilization'] < 0.6:\n",
      "        return 6\n",
      "    elif row['utilization'] >= 0.6 and row['utilization'] < 0.7:\n",
      "        return 7\n",
      "    elif row['utilization'] >= 0.7 and row['utilization'] < 0.8:\n",
      "        return 8\n",
      "    elif row['utilization'] >= 0.8 and row['utilization'] < 0.9:\n",
      "        return 9\n",
      "    else:\n",
      "        return 10\n",
      "    \n",
      "master_df['group'] = master_df.apply(lambda row: label_group (row), axis=1)\n",
      "\n",
      "#print master_df.head()"
     ],
     "language": "python",
     "metadata": {},
     "outputs": []
    },
    {
     "cell_type": "code",
     "collapsed": false,
     "input": [
      "hist_data = master_df.groupby('group').agg({'order_ind':[np.sum, np.size]})\n",
      "\n",
      "hist_order_rate = hist_data[hist_data.columns.values[0]] / hist_data[hist_data.columns.values[1]]\n",
      "\n",
      "x = hist_order_rate.index.values\n",
      "y = hist_order_rate"
     ],
     "language": "python",
     "metadata": {},
     "outputs": [],
     "prompt_number": 9
    },
    {
     "cell_type": "code",
     "collapsed": false,
     "input": [
      "width=0.9\n",
      "plt.bar(x,y,width,align='center')\n",
      "plt.xlabel('Utilization Grouping')\n",
      "plt.ylabel('Order Rate')\n",
      "plt.title('Order Rate by Utilization')\n",
      "plt.xticks(x)\n",
      "plt.show()"
     ],
     "language": "python",
     "metadata": {},
     "outputs": [
      {
       "metadata": {},
       "output_type": "display_data",
       "png": "[encoded data removed]",
       "text": [
        "<matplotlib.figure.Figure at 0x15ebd0b0>"
       ]
      }
     ],
     "prompt_number": 10
    },
    {
     "cell_type": "markdown",
     "metadata": {},
     "source": [
      "In the chart above, each Utilization Grouping refers to a 10% range of utilization. For example, Group 1 is 0-10%, Group 2 is 10-20%, Group 3 is 20-30%, and so on. It is clear from this chart that the order rate monotonically increases as a function of utilization rate. This information will help us when forecasting demand."
     ]
    },
    {
     "cell_type": "heading",
     "level": 2,
     "metadata": {},
     "source": [
      "Logistic Regression on User Age"
     ]
    },
    {
     "cell_type": "markdown",
     "metadata": {},
     "source": [
      "Turning back to the CEO's original hypothesis, let's see how Order_Ind might depend on User_Age. I am turning to Logistic Regression to model the relationship. Specifically, I want to see if the parameter for user_age is significant, and what the direction of the sign is."
     ]
    },
    {
     "cell_type": "code",
     "collapsed": false,
     "input": [
      "import statsmodels.api as sm\n",
      "\n",
      "# Reshaping the user_age variable for use in the logit model\n",
      "x = master_df['user_age_x'].reshape(len(master_df['user_age_x']),1)\n",
      "y = master_df['order_ind']\n",
      "\n",
      "# Adding a constant column to the RHS, in order to get back an estimate for the intercept value\n",
      "x = sm.add_constant(x)\n",
      "\n",
      "logit = sm.Logit(y, x)\n",
      "result = logit.fit()\n",
      "print result.summary()"
     ],
     "language": "python",
     "metadata": {},
     "outputs": [
      {
       "output_type": "stream",
       "stream": "stdout",
       "text": [
        "Optimization terminated successfully.\n",
        "         Current function value: 0.629573\n",
        "         Iterations 5\n",
        "                           Logit Regression Results                           \n",
        "==============================================================================\n",
        "Dep. Variable:              order_ind   No. Observations:              1117763\n",
        "Model:                          Logit   Df Residuals:                  1117761\n",
        "Method:                           MLE   Df Model:                            1\n",
        "Date:                Wed, 15 Jul 2015   Pseudo R-squ.:                0.002605\n",
        "Time:                        12:02:51   Log-Likelihood:            -7.0371e+05\n",
        "converged:                       True   LL-Null:                   -7.0555e+05\n",
        "                                        LLR p-value:                     0.000\n",
        "==============================================================================\n",
        "                 coef    std err          z      P>|z|      [95.0% Conf. Int.]\n",
        "------------------------------------------------------------------------------\n",
        "const         -0.6128      0.003   -223.019      0.000        -0.618    -0.607\n",
        "x1            -0.0056   9.47e-05    -59.659      0.000        -0.006    -0.005\n",
        "=============================================================================="
       ]
      },
      {
       "output_type": "stream",
       "stream": "stdout",
       "text": [
        "\n"
       ]
      }
     ],
     "prompt_number": 11
    },
    {
     "cell_type": "markdown",
     "metadata": {},
     "source": [
      "The model parameter for user_age is -0.0056, and it is significant. The sign, however, is in the negative direction. We can interpret this to mean that the probability of ordering decreases with age. This is counter-intuitive to what we would think, and is related to the fact that we did not see any pattern in order behavior as age increases."
     ]
    },
    {
     "cell_type": "markdown",
     "metadata": {},
     "source": [
      "Ultimately, what is missing in this thinking is the amount of ordering a person has done, coupled with their age. This can be summarized in their \"utilization\" rate. Early on, a customer should have a high utilization rate, and we expect them to be more likely to keep ordering, as they are trying out the service. As a customer ages, the utilization rate separates out the customers who are passive and opting out every week from the customers who are continuing to place orders. We would expect the latter to have a high probability of continuing to place orders. Let's take a look at the Logistic Regression with utilization as the dependent variable to see what it tells us."
     ]
    },
    {
     "cell_type": "heading",
     "level": 2,
     "metadata": {},
     "source": [
      "Logistic Regression on Utilization"
     ]
    },
    {
     "cell_type": "code",
     "collapsed": false,
     "input": [
      "import statsmodels.api as sm\n",
      "\n",
      "x = master_df['utilization'].reshape(len(master_df['utilization']),1)\n",
      "y = master_df['order_ind']\n",
      "\n",
      "x = sm.add_constant(x)\n",
      "logit = sm.Logit(y, x)\n",
      "result = logit.fit()\n",
      "print result.summary()"
     ],
     "language": "python",
     "metadata": {},
     "outputs": [
      {
       "output_type": "stream",
       "stream": "stdout",
       "text": [
        "Optimization terminated successfully.\n",
        "         Current function value: 0.493693\n",
        "         Iterations 6\n",
        "                           Logit Regression Results                           \n",
        "==============================================================================\n",
        "Dep. Variable:              order_ind   No. Observations:              1117763\n",
        "Model:                          Logit   Df Residuals:                  1117761\n",
        "Method:                           MLE   Df Model:                            1\n",
        "Date:                Wed, 15 Jul 2015   Pseudo R-squ.:                  0.2179\n",
        "Time:                        12:03:21   Log-Likelihood:            -5.5183e+05\n",
        "converged:                       True   LL-Null:                   -7.0555e+05\n",
        "                                        LLR p-value:                     0.000\n",
        "==============================================================================\n",
        "                 coef    std err          z      P>|z|      [95.0% Conf. Int.]\n",
        "------------------------------------------------------------------------------\n",
        "const         -3.0038      0.006   -539.409      0.000        -3.015    -2.993\n",
        "x1             4.0239      0.008    486.133      0.000         4.008     4.040\n",
        "=============================================================================="
       ]
      },
      {
       "output_type": "stream",
       "stream": "stdout",
       "text": [
        "\n"
       ]
      }
     ],
     "prompt_number": 12
    },
    {
     "cell_type": "markdown",
     "metadata": {},
     "source": [
      "The paramter for Utilization is significant, and in the positive direction. This goes well with our intuition, and this model will be useful for forecasting future demand"
     ]
    },
    {
     "cell_type": "heading",
     "level": 2,
     "metadata": {},
     "source": [
      "Cross-Validation"
     ]
    },
    {
     "cell_type": "markdown",
     "metadata": {},
     "source": [
      "Let's now see how good our \"Utilization Based\" logistic regression model is in predicting future orders, by using 10-fold cross-validation"
     ]
    },
    {
     "cell_type": "code",
     "collapsed": false,
     "input": [
      "from sklearn.linear_model import LogisticRegression\n",
      "from sklearn import metrics\n",
      "from sklearn import cross_validation\n",
      "\n",
      "x = master_df['utilization'].reshape(len(master_df['utilization']),1)\n",
      "y = master_df['order_ind']\n",
      "\n",
      "num_folds = 10\n",
      "num_instances = len(x)\n",
      "kfold = cross_validation.KFold(n=num_instances, n_folds=num_folds)\n",
      "model = LogisticRegression()\n",
      "\n",
      "results = cross_validation.cross_val_score(model, x, y, cv=kfold)\n",
      "print(results)\n",
      "print(results.mean())\n",
      "print(results.std())"
     ],
     "language": "python",
     "metadata": {},
     "outputs": [
      {
       "output_type": "stream",
       "stream": "stdout",
       "text": [
        "[ 0.84319672  0.80805532  0.75196149  0.73539042  0.75046522  0.80219367\n",
        "  0.77092578  0.8243809   0.6948361   0.68240052]\n",
        "0.766380615505\n",
        "0.0508897244324\n"
       ]
      }
     ],
     "prompt_number": 13
    },
    {
     "cell_type": "markdown",
     "metadata": {},
     "source": [
      "Using 10-fold cross validation, we have roughly a 77% accuracy on our test set. This seems reasonable to me, and will provide the foundating for predicting demand in any given week"
     ]
    },
    {
     "cell_type": "heading",
     "level": 2,
     "metadata": {},
     "source": [
      "ROC Curve"
     ]
    },
    {
     "cell_type": "markdown",
     "metadata": {},
     "source": [
      "An ROC curve will evaluate the accuracy of this model at different cutoff thresholds, and the Area Under the Curve will give us one number with which we can compare with competing models."
     ]
    },
    {
     "cell_type": "code",
     "collapsed": false,
     "input": [
      "from sklearn.metrics import roc_curve, auc\n",
      "\n",
      "x = master_df['utilization'].reshape(len(master_df['utilization']),1)\n",
      "y = master_df['order_ind']\n",
      "\n",
      "num_samples, num_features = x.shape\n",
      "\n",
      "half = int(num_samples / 2)\n",
      "\n",
      "x_train, x_test = x[:half], x[half:]\n",
      "y_train, y_test = y[:half], y[half:]\n",
      "\n",
      "classifier = LogisticRegression()\n",
      "probas_ = classifier.fit(x_train, y_train).predict_proba(x_test)\n",
      "\n",
      "# Compute ROC curve and area the curve\n",
      "fpr, tpr, thresholds = roc_curve(y_test, probas_[:, 1])\n",
      "roc_auc = auc(fpr, tpr)\n",
      "print \"Area under the ROC curve : %f\" % roc_auc\n",
      "\n",
      "# Plot ROC curve\n",
      "plt.clf()\n",
      "plt.plot(fpr, tpr, label='ROC curve (area = %0.2f)' % roc_auc)\n",
      "plt.plot([0, 1], [0, 1], 'k--')\n",
      "plt.xlim([0.0, 1.0])\n",
      "plt.ylim([0.0, 1.0])\n",
      "plt.xlabel('False Positive Rate')\n",
      "plt.ylabel('True Positive Rate')\n",
      "plt.title('ROC Curve - Logistic Regression on Utilization')\n",
      "plt.legend(loc=\"lower right\")\n",
      "plt.show()\n"
     ],
     "language": "python",
     "metadata": {},
     "outputs": [
      {
       "output_type": "stream",
       "stream": "stdout",
       "text": [
        "Area under the ROC curve : 0.807098\n"
       ]
      },
      {
       "metadata": {},
       "output_type": "display_data",
       "png": "[encoded data removed]",
       "text": [
        "<matplotlib.figure.Figure at 0x277603f0>"
       ]
      }
     ],
     "prompt_number": 14
    },
    {
     "cell_type": "heading",
     "level": 2,
     "metadata": {},
     "source": [
      "Finding the Optimal Threshold"
     ]
    },
    {
     "cell_type": "markdown",
     "metadata": {},
     "source": [
      "In order to find the optimal point on the ROC curve, I am going to calculate the distance from the point (0,1) to every point on the curve. The point (0,1) is the point that represents the perfect classifier. Therefore the point on the ROC curve that is closest to (0,1) represents the optimal threshold or cut-off for prediction purposes."
     ]
    },
    {
     "cell_type": "code",
     "collapsed": false,
     "input": [
      "print fpr\n",
      "print tpr\n",
      "\n",
      "print thresholds\n",
      "\n",
      "distance = np.sqrt((fpr-0)**2 + (tpr-1)**2)\n",
      "\n",
      "index_min = np.argmin(distance)\n",
      "opt_threshold = thresholds[index_min]\n",
      "print opt_threshold"
     ],
     "language": "python",
     "metadata": {},
     "outputs": [
      {
       "output_type": "stream",
       "stream": "stdout",
       "text": [
        "[ 0.          0.07083371  0.07083371 ...,  0.99999724  1.          1.        ]\n",
        "[ 0.          0.28988714  0.28989222 ...,  0.99998983  0.99999491  1.        ]\n",
        "[ 1.69479589  0.69479589  0.68658532 ...,  0.04006928  0.04005657\n",
        "  0.04004409]\n",
        "0.23871259559\n"
       ]
      }
     ],
     "prompt_number": 15
    },
    {
     "cell_type": "heading",
     "level": 2,
     "metadata": {},
     "source": [
      "Using the Optimal Threshold and Recalculating Accuracy"
     ]
    },
    {
     "cell_type": "code",
     "collapsed": false,
     "input": [
      "from sklearn.linear_model import LogisticRegression\n",
      "from sklearn import metrics\n",
      "import copy as cp\n",
      "\n",
      "model = LogisticRegression()\n",
      "x = master_df['utilization'].reshape(len(master_df['utilization']),1)\n",
      "y = master_df['order_ind']\n",
      "\n",
      "num_samples, num_features = x.shape\n",
      "tenth = int(num_samples / 10)\n",
      "\n",
      "x_test, x_train = x[:tenth], x[tenth:]\n",
      "y_test, y_train = y[:tenth], y[tenth:]\n",
      "\n",
      "classifier = LogisticRegression()\n",
      "probas_ = classifier.fit(x_train, y_train).predict_proba(x_test)\n",
      "\n",
      "print probas_.shape\n",
      "print y_test.shape\n",
      "\n",
      "final_probs = cp.deepcopy(probas_[:,1])\n",
      "final_probs[final_probs >= opt_threshold] = 1\n",
      "final_probs[final_probs < opt_threshold] = 0\n",
      "\n",
      "print probas_[:,1]\n",
      "print final_probs\n",
      "\n",
      "expected = y_test.reshape(len(y_test),1)\n",
      "predicted = final_probs\n",
      "predicted = predicted.astype(int)\n",
      "\n",
      "print expected.dtype\n",
      "print predicted.dtype\n",
      "\n",
      "print(metrics.classification_report(expected, predicted))\n",
      "conf_mat = metrics.confusion_matrix(expected, predicted)\n",
      "print conf_mat\n",
      "conf_mat = conf_mat.astype(float)\n",
      "\n",
      "accuracy = (conf_mat[0,0]+conf_mat[1,1]) / (conf_mat[0,0]+conf_mat[1,1]+conf_mat[1,0]+conf_mat[0,1])\n",
      "print accuracy\n"
     ],
     "language": "python",
     "metadata": {},
     "outputs": [
      {
       "output_type": "stream",
       "stream": "stdout",
       "text": [
        "(111776, 2)\n",
        "(111776,)\n",
        "[ 0.09520416  0.07788875  0.10718085 ...,  0.67690754  0.66816962\n",
        "  0.67424066]\n",
        "[ 0.  0.  0. ...,  1.  1.  1.]\n",
        "int64\n",
        "int32\n",
        "             precision    recall  f1-score   support\n",
        "\n",
        "          0       0.95      0.72      0.82     90859\n",
        "          1       0.41      0.83      0.55     20917\n",
        "\n",
        "avg / total       0.85      0.74      0.77    111776\n"
       ]
      },
      {
       "output_type": "stream",
       "stream": "stdout",
       "text": [
        "\n",
        "[[65448 25411]\n",
        " [ 3526 17391]]"
       ]
      },
      {
       "output_type": "stream",
       "stream": "stdout",
       "text": [
        "\n",
        "0.741116160893\n"
       ]
      }
     ],
     "prompt_number": 23
    },
    {
     "cell_type": "heading",
     "level": 2,
     "metadata": {},
     "source": [
      "Implementation and Demand Forecasting"
     ]
    },
    {
     "cell_type": "markdown",
     "metadata": {},
     "source": [
      "Here are the steps to implement this model and forecast demand for a given week:"
     ]
    },
    {
     "cell_type": "markdown",
     "metadata": {},
     "source": [
      "Step 1: Predict a value of Order_Ind = 1 for any customer who is User_Age = 1. This is their first week as a subscriber and they always will receive an order of fish (the data validates this hypothesis)"
     ]
    },
    {
     "cell_type": "markdown",
     "metadata": {},
     "source": [
      "Step 2: Calculate the utilization rate of all existing customers (non-cancelled)"
     ]
    },
    {
     "cell_type": "markdown",
     "metadata": {},
     "source": [
      "Step 3: Using the logistic regression model, predict the probability of placing an order based on the customer's utilization rate"
     ]
    },
    {
     "cell_type": "markdown",
     "metadata": {},
     "source": [
      "\\begin{equation*}\n",
      "p(x)   = \\frac{e^{-3.0038+4.0239x}}{1+e^{-3.0038+4.0239x}}\n",
      "\\end{equation*}"
     ]
    },
    {
     "cell_type": "markdown",
     "metadata": {},
     "source": [
      "Step 4: Use the cutoff threshold of 0.2387 to either predict a '1' or '0' for order_ind. If Probability > 0.2387, Order_Ind = 1"
     ]
    },
    {
     "cell_type": "markdown",
     "metadata": {},
     "source": [
      "Step 5: Sum up all of the Order_Ind = 1 values. This is the number of fish orders forecasted for the week."
     ]
    },
    {
     "cell_type": "heading",
     "level": 2,
     "metadata": {},
     "source": [
      "Addendum"
     ]
    },
    {
     "cell_type": "markdown",
     "metadata": {},
     "source": [
      "In addition to Logistic Regression, I tried a variety of other classification techniques, but did not find any of them to provide better results than the Logistic Regression. Given my training in statistics, I tend to prefer logistic regression, because I have a good understanding of how the parameters are solved for and how to draw inference on them."
     ]
    },
    {
     "cell_type": "markdown",
     "metadata": {},
     "source": [
      "Below are some examples of other classification techniques that I attempted, along with their validation results"
     ]
    },
    {
     "cell_type": "heading",
     "level": 5,
     "metadata": {},
     "source": [
      "Linear Discriminant Analysis (Assumes equal variance in each class)"
     ]
    },
    {
     "cell_type": "code",
     "collapsed": false,
     "input": [
      "from sklearn.lda import LDA\n",
      "\n",
      "model = LDA()\n",
      "x = master_df['utilization'].reshape(len(master_df['utilization']),1)\n",
      "y = master_df['order_ind']\n",
      "model.fit(x, y)\n",
      "\n",
      "expected = y.reshape(len(y),1)\n",
      "predicted = model.predict(x)\n",
      "\n",
      "print(metrics.classification_report(expected, predicted))\n",
      "print(metrics.confusion_matrix(expected, predicted))\n",
      "\n",
      "conf_matrix = metrics.confusion_matrix(expected, predicted)\n",
      "conf_mat = conf_mat.astype(float)\n",
      "\n",
      "accuracy = (conf_mat[0,0]+conf_mat[1,1]) / (conf_mat[0,0]+conf_mat[1,1]+conf_mat[1,0]+conf_mat[0,1])\n",
      "print accuracy"
     ],
     "language": "python",
     "metadata": {},
     "outputs": [
      {
       "output_type": "stream",
       "stream": "stdout",
       "text": [
        "             precision    recall  f1-score   support\n",
        "\n",
        "          0       0.81      0.86      0.83    753515\n",
        "          1       0.67      0.58      0.62    364248\n",
        "\n",
        "avg / total       0.76      0.77      0.76   1117763\n",
        "\n",
        "[[648550 104965]\n",
        " [152893 211355]]"
       ]
      },
      {
       "output_type": "stream",
       "stream": "stdout",
       "text": [
        "\n",
        "0.741116160893"
       ]
      },
      {
       "output_type": "stream",
       "stream": "stdout",
       "text": [
        "\n"
       ]
      }
     ],
     "prompt_number": 26
    },
    {
     "cell_type": "heading",
     "level": 5,
     "metadata": {},
     "source": [
      "Quadratic Disciminant Analysis (Does not assume equal variance across classes)"
     ]
    },
    {
     "cell_type": "code",
     "collapsed": false,
     "input": [
      "from sklearn.qda import QDA\n",
      "model = QDA()\n",
      "x = master_df['utilization'].reshape(len(master_df['utilization']),1)\n",
      "y = master_df['order_ind']\n",
      "model.fit(x, y)\n",
      "\n",
      "expected = y.reshape(len(y),1)\n",
      "predicted = model.predict(x)\n",
      "\n",
      "print(metrics.classification_report(expected, predicted))\n",
      "print(metrics.confusion_matrix(expected, predicted))\n",
      "\n",
      "conf_matrix = metrics.confusion_matrix(expected, predicted)\n",
      "conf_mat = conf_mat.astype(float)\n",
      "\n",
      "accuracy = (conf_mat[0,0]+conf_mat[1,1]) / (conf_mat[0,0]+conf_mat[1,1]+conf_mat[1,0]+conf_mat[0,1])\n",
      "print accuracy"
     ],
     "language": "python",
     "metadata": {},
     "outputs": [
      {
       "output_type": "stream",
       "stream": "stdout",
       "text": [
        "             precision    recall  f1-score   support\n",
        "\n",
        "          0       0.81      0.86      0.83    753515\n",
        "          1       0.67      0.58      0.62    364248\n",
        "\n",
        "avg / total       0.76      0.77      0.77   1117763\n",
        "\n",
        "[[647952 105563]\n",
        " [151926 212322]]"
       ]
      },
      {
       "output_type": "stream",
       "stream": "stdout",
       "text": [
        "\n",
        "0.741116160893"
       ]
      },
      {
       "output_type": "stream",
       "stream": "stdout",
       "text": [
        "\n"
       ]
      }
     ],
     "prompt_number": 27
    },
    {
     "cell_type": "heading",
     "level": 5,
     "metadata": {},
     "source": [
      "K-Nearest Neighbor Classifier (Defaults to k=5)"
     ]
    },
    {
     "cell_type": "code",
     "collapsed": false,
     "input": [
      "from sklearn.neighbors import KNeighborsClassifier\n",
      "model = KNeighborsClassifier()\n",
      "x = master_df['utilization'].reshape(len(master_df['utilization']),1)\n",
      "y = master_df['order_ind']\n",
      "model.fit(x, y)\n",
      "\n",
      "expected = y.reshape(len(y),1)\n",
      "predicted = model.predict(x)\n",
      "\n",
      "print(metrics.classification_report(expected, predicted))\n",
      "print(metrics.confusion_matrix(expected, predicted))"
     ],
     "language": "python",
     "metadata": {},
     "outputs": []
    },
    {
     "cell_type": "code",
     "collapsed": false,
     "input": [],
     "language": "python",
     "metadata": {},
     "outputs": []
    }
   ],
   "metadata": {}
  }
 ]
}
