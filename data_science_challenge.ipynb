{
 "metadata": {
  "name": "",
  "signature": "sha256:bb120c7925360eaa46f7b4770fcb57170ded40fd5e61228c76ea324820a5f26c"
 },
 "nbformat": 3,
 "nbformat_minor": 0,
 "worksheets": [
  {
   "cells": [
    {
     "cell_type": "heading",
     "level": 1,
     "metadata": {},
     "source": [
      "Objective"
     ]
    },
    {
     "cell_type": "markdown",
     "metadata": {},
     "source": [
      "The objective of this analysis is to evaluate the CEO's hypothesis that there is a relationship between a user's age and their likelihood of placing an order. My goal is to examine if such a relationship exists, and to ultimately identify the relationship that would best help predict weekly demand for fish."
     ]
    },
    {
     "cell_type": "heading",
     "level": 1,
     "metadata": {},
     "source": [
      "Data Exploration"
     ]
    },
    {
     "cell_type": "markdown",
     "metadata": {},
     "source": [
      "Prior to doing any analysis, I like to explore the data and create some quick plots so that I can draw some preliminary conclusions and ensure that I understand how the data is structured and that is makes sense to me."
     ]
    },
    {
     "cell_type": "heading",
     "level": 4,
     "metadata": {},
     "source": [
      "Reading in the data:"
     ]
    },
    {
     "cell_type": "code",
     "collapsed": false,
     "input": [
      "%matplotlib inline\n",
      "import numpy as np\n",
      "import pandas as pd\n",
      "import matplotlib.pyplot as plt\n",
      "\n",
      "user_pop = pd.read_csv('C:/Users/cprab/Desktop/blue_apron_data_science_challenge/weekly_user_population.csv')\n",
      "week_orders = pd.read_csv('C:/Users/cprab/Desktop/blue_apron_data_science_challenge/weekly_orders.csv')\n",
      "user_fulf_hist = pd.read_csv('C:/Users/cprab/Desktop/blue_apron_data_science_challenge/user_fulfillment_history.csv')"
     ],
     "language": "python",
     "metadata": {},
     "outputs": [],
     "prompt_number": 1
    },
    {
     "cell_type": "heading",
     "level": 4,
     "metadata": {},
     "source": [
      "Data Inconsistencies"
     ]
    },
    {
     "cell_type": "markdown",
     "metadata": {},
     "source": [
      "During data exploration, I plucked a handful of user_ids and investigated their order history, in order to get comfortable with the data at a transaction level. I found some inconsistencies that caused concern. Below is an example, using user_id = '410a93f1ab1818d037d93ff47bb2c3f9d4682b8d'. According to the weekly_user_population dataset, this person had one previous order by the time they were 6 weeks \"old\". However, if you look at the user_fulfillment_history table, this person did not have a single shipment in their first 6 weeks as a member."
     ]
    },
    {
     "cell_type": "code",
     "collapsed": false,
     "input": [
      "print user_pop[user_pop['user_id']=='0000982547d46efe310eb0fe9b36f4afd35a2380'][['week_id','user_age','prev_orders']].sort('week_id')\n",
      "print user_fulf_hist[user_fulf_hist['user_id']=='0000982547d46efe310eb0fe9b36f4afd35a2380'][['week_index','was_shipped']].sort('week_index')"
     ],
     "language": "python",
     "metadata": {},
     "outputs": [
      {
       "output_type": "stream",
       "stream": "stdout",
       "text": [
        "       week_id  user_age  prev_orders\n",
        "846159       A         6            1\n",
        "846161       B         7            1\n",
        "846158       C         8            1\n",
        "846164       D         9            1\n",
        "846162       E        10            1\n",
        "846165       F        11            1\n",
        "846160       G        12            1\n",
        "846166       H        13            1\n",
        "846163       I        14            1\n",
        "         week_index  was_shipped\n",
        "1309860           1            0\n",
        "743209            2            0\n",
        "1271505           3            0\n",
        "274769            4            0\n",
        "148479            5            0\n",
        "311633            6            0\n",
        "1168503           7            0\n",
        "287522            8            0\n",
        "617264            9            0\n",
        "668258           10            0"
       ]
      },
      {
       "output_type": "stream",
       "stream": "stdout",
       "text": [
        "\n"
       ]
      }
     ],
     "prompt_number": 2
    },
    {
     "cell_type": "markdown",
     "metadata": {},
     "source": [
      "At this point, I would reach out to the data engineering team to ensure that I am not misunderstanding the data. In this instance, I felt that I could proceed with answering the questions from my objective statement by just utilizing the weekly_user_population dataset. This dataset is an 11 week snapshot of user behavior that has a broad range of user ages to model with. The user_fullfilment_history dataset only contains the first 10 weeks of a customer's lifespan, and models built on this dataset may not generalize well. If I had more confidence in the consistency of information between these 2 datasets, I would have tried to combine the two in order to maximize the amount of information in my training data."
     ]
    },
    {
     "cell_type": "heading",
     "level": 1,
     "metadata": {},
     "source": [
      "Feature Engineering"
     ]
    },
    {
     "cell_type": "markdown",
     "metadata": {},
     "source": [
      "First, I will attempt to answer the CEO's question regarding whether or not demand is a function of the \"age\" of the user. \"Age\" does not take into consideration how engaged a customer is, however. The CEO's thinking is that the longer a customer has been a member, the higher the likelihood that they are to place an order. \"Engagement\" or \"Utilization\" may be a better dependent variable, however. It can be hypothesized that a customer that is 100 weeks old, but has only placed 1 order, is less likely to place an order in week 101, than a customer that is only 10 weeks old, but has placed 9 orders in those past 10 weeks."
     ]
    },
    {
     "cell_type": "markdown",
     "metadata": {},
     "source": [
      "Using the weekly_user_population snapshot data, I will \"engineer\" two new variables - 'order_ind', and 'utilization'. Order_Ind will look ahead at the next week to see if the customer actually placed an order in the current week. A value of '1' will indicate that an order was placed, and '0' indicates that an order was not placed. Utilization will calculate the utilization or \"engagement\" of the customer in a given week. For example, if, in week 11, the customer has 7 previous orders, his or her utilization will be 7 divided by 10, which is 0.7 or 70%. Note that in week 11, the customer has had only 10 chances to place an order, therefore the utilization calculation is 7 divided by 10, not 7 divided by 11."
     ]
    },
    {
     "cell_type": "code",
     "collapsed": false,
     "input": [
      "import numpy as np\n",
      "import pandas as pd\n",
      "\n",
      "# Read in the weekly_user_population data\n",
      "df1 = pd.read_csv('C:/Users/cprab/Desktop/blue_apron_data_science_challenge/weekly_user_population.csv')\n",
      "\n",
      "# Create a copy to join itself with\n",
      "df2 = df1.copy(deep=True)\n",
      "\n",
      "# In order to create the order_ind variable, create an 'age_join' variable to join df1 and df2. In df1, age_join is the user_age+1\n",
      "df1['age_join'] = df1['user_age']+1\n",
      "df2['age_join'] = df2['user_age']\n",
      "\n",
      "# Create a new master_df dataframe, that is an inner join of df1 with df2, on user_id and age_join\n",
      "master_df = pd.merge(df1, df2, on=['user_id', 'age_join'], how='inner')\n",
      "\n",
      "# Create the order_ind variable, which is the difference in previous orders from one week ahead and the current week\n",
      "master_df['order_ind'] = master_df['prev_orders_y'] - master_df['prev_orders_x']\n",
      "\n",
      "# Create the utilization variable. In order to do this, remove any records where the user_age=1. We cannot compute the \n",
      "# utilization in a customer's first week. \n",
      "# In the final model to forecast demand, predict anyone with user_age = 1 with order_ind = 1. A predictive model is not required\n",
      "# for these customers.\n",
      "master_df = master_df[master_df['user_age_x'] != 1]\n",
      "master_df['utilization'] = master_df['prev_orders_x'] / (master_df['user_age_x']-1)\n",
      "\n",
      "# Size of final dataframe\n",
      "print(master_df.shape)"
     ],
     "language": "python",
     "metadata": {},
     "outputs": [
      {
       "output_type": "stream",
       "stream": "stdout",
       "text": [
        "(1117763, 10)\n"
       ]
      }
     ],
     "prompt_number": 2
    },
    {
     "cell_type": "code",
     "collapsed": false,
     "input": [
      "# Grouping by user_age and summing and counting order_ind in order to calculate the order rate by user_age\n",
      "summary = master_df.groupby('user_age_x').agg({'order_ind':[np.sum, np.size]})"
     ],
     "language": "python",
     "metadata": {},
     "outputs": [],
     "prompt_number": 3
    },
    {
     "cell_type": "code",
     "collapsed": false,
     "input": [
      "# Create two arrays for graph. Calculate order_rate (x-axis), and set y-axis to the user_age\n",
      "order_rate = summary[summary.columns.values[0]] / summary[summary.columns.values[1]]\n",
      "user_age = order_rate.index.values"
     ],
     "language": "python",
     "metadata": {},
     "outputs": [],
     "prompt_number": 5
    },
    {
     "cell_type": "heading",
     "level": 4,
     "metadata": {},
     "source": [
      "Graph of Order Rate by Customer Age"
     ]
    },
    {
     "cell_type": "code",
     "collapsed": false,
     "input": [
      "# Plot line graph of order rate by customer age\n",
      "plt.plot(user_age, order_rate)\n",
      "plt.xlabel('Customer Age')\n",
      "plt.ylabel('Order Rate')\n",
      "plt.title('Order Rate by Customer Age')\n",
      "plt.show()"
     ],
     "language": "python",
     "metadata": {},
     "outputs": [
      {
       "metadata": {},
       "output_type": "display_data",
       "png": "[encoded data removed]",
       "text": [
        "<matplotlib.figure.Figure at 0x957de10>"
       ]
      }
     ],
     "prompt_number": 6
    },
    {
     "cell_type": "markdown",
     "metadata": {},
     "source": [
      "Based on this plot, customer age is not a great indicator of a customer's likelihood to order fish. Roughly speaking, between the age of 10 and 130, the order rate of a customer stays within a band of 25%-35%. The high order rates early on are indicative of the customer still just trying out the service. After 130 weeks, the reduced number of data points account for the noise that you see (see tail of dataset below)."
     ]
    },
    {
     "cell_type": "code",
     "collapsed": false,
     "input": [
      "print summary.tail(10)"
     ],
     "language": "python",
     "metadata": {},
     "outputs": [
      {
       "output_type": "stream",
       "stream": "stdout",
       "text": [
        "            order_ind      \n",
        "                  sum  size\n",
        "user_age_x                 \n",
        "127                26    79\n",
        "128                24    77\n",
        "129                26    67\n",
        "130                18    57\n",
        "131                12    26\n",
        "132                 8    19\n",
        "133                10    16\n",
        "134                 5    14\n",
        "135                 8    14\n",
        "136                 7    11\n"
       ]
      }
     ],
     "prompt_number": 7
    },
    {
     "cell_type": "heading",
     "level": 4,
     "metadata": {},
     "source": [
      "Graph of Order Rate by Utilization"
     ]
    },
    {
     "cell_type": "markdown",
     "metadata": {},
     "source": [
      "Let's plot of quick histogram of utilization rates, just to make sure that we don't have data that is overly skewed in any direction"
     ]
    },
    {
     "cell_type": "code",
     "collapsed": false,
     "input": [
      "plt.hist(master_df['utilization'])\n",
      "plt.xlabel('Utilization')\n",
      "plt.ylabel('Frequency')\n",
      "plt.title('Frequency Histogram of Utilization')\n",
      "plt.show()"
     ],
     "language": "python",
     "metadata": {},
     "outputs": [
      {
       "metadata": {},
       "output_type": "display_data",
       "png": "[encoded data removed]",
       "text": [
        "<matplotlib.figure.Figure at 0x15efe4d0>"
       ]
      }
     ],
     "prompt_number": 8
    },
    {
     "cell_type": "markdown",
     "metadata": {},
     "source": [
      "The histogram shows a higher preponderance of data with high utilization, but this is expected, given that Fish4U is a startup. There are a lot of new users with high utilization rates since they are just trying out the subscription service. The good news is that there is still a lot of data at the other utilization levels, which allows for a better model to be built. Specifically, there is a lot of data between 10% and 20% utilization. These are likely customers who have recently signed up and have already stopped using the service, or long-time customers who are disengaged."
     ]
    },
    {
     "cell_type": "markdown",
     "metadata": {},
     "source": [
      "Now, let's see what Order Rates look like with Utilization across the x-axis, instead of User Age."
     ]
    },
    {
     "cell_type": "code",
     "collapsed": false,
     "input": [
      "# Set up a new variable for utilization bucket (0-10%, 10-20%, 20-30%, etc) to be used for a bar chart later on\n",
      "def label_group(row):\n",
      "    if row['utilization'] >= 0 and row['utilization'] < 0.1:\n",
      "        return 1\n",
      "    elif row['utilization'] >= 0.1 and row['utilization'] < 0.2:\n",
      "        return 2\n",
      "    elif row['utilization'] >= 0.2 and row['utilization'] < 0.3:\n",
      "        return 3\n",
      "    elif row['utilization'] >= 0.3 and row['utilization'] < 0.4:\n",
      "        return 4\n",
      "    elif row['utilization'] >= 0.4 and row['utilization'] < 0.5:\n",
      "        return 5\n",
      "    elif row['utilization'] >= 0.5 and row['utilization'] < 0.6:\n",
      "        return 6\n",
      "    elif row['utilization'] >= 0.6 and row['utilization'] < 0.7:\n",
      "        return 7\n",
      "    elif row['utilization'] >= 0.7 and row['utilization'] < 0.8:\n",
      "        return 8\n",
      "    elif row['utilization'] >= 0.8 and row['utilization'] < 0.9:\n",
      "        return 9\n",
      "    else:\n",
      "        return 10\n",
      "    \n",
      "master_df['group'] = master_df.apply(lambda row: label_group (row), axis=1)"
     ],
     "language": "python",
     "metadata": {},
     "outputs": [],
     "prompt_number": 9
    },
    {
     "cell_type": "code",
     "collapsed": false,
     "input": [
      "# Group by group, and sum and count order_ind\n",
      "hist_data = master_df.groupby('group').agg({'order_ind':[np.sum, np.size]})\n",
      "\n",
      "# Compute order_rate\n",
      "hist_order_rate = hist_data[hist_data.columns.values[0]] / hist_data[hist_data.columns.values[1]]\n",
      "\n",
      "x = hist_order_rate.index.values\n",
      "y = hist_order_rate"
     ],
     "language": "python",
     "metadata": {},
     "outputs": [],
     "prompt_number": 10
    },
    {
     "cell_type": "code",
     "collapsed": false,
     "input": [
      "# Plot a bar graph - Order Rate by Utilization Bucket\n",
      "width=0.9\n",
      "plt.bar(x,y,width,align='center')\n",
      "plt.xlabel('Utilization Bucket')\n",
      "plt.ylabel('Order Rate')\n",
      "plt.title('Order Rate by Utilization')\n",
      "plt.xticks(x)\n",
      "plt.show()"
     ],
     "language": "python",
     "metadata": {},
     "outputs": [
      {
       "metadata": {},
       "output_type": "display_data",
       "png": "[encoded data removed]",
       "text": [
        "<matplotlib.figure.Figure at 0x957dcb0>"
       ]
      }
     ],
     "prompt_number": 11
    },
    {
     "cell_type": "markdown",
     "metadata": {},
     "source": [
      "In the chart above, each Utilization Bucket refers to a 10% range of utilization. For example, Bucket 1 is 0-10%, Bucket 2 is 10-20%, Bucket 3 is 20-30%, and so on. It is clear from this chart that the order rate almost monotonically increases as a function of utilization rate. This information will help us when forecasting demand."
     ]
    },
    {
     "cell_type": "heading",
     "level": 2,
     "metadata": {},
     "source": [
      "Logistic Regression on User Age"
     ]
    },
    {
     "cell_type": "markdown",
     "metadata": {},
     "source": [
      "Turning back to the CEO's original hypothesis, let's see how Order_Ind might depend on User_Age. I am turning to Logistic Regression to model the relationship, since order_ind is binomially distributed. Specifically, I want to see if the parameter for user_age is significant, and what the direction of the sign is."
     ]
    },
    {
     "cell_type": "code",
     "collapsed": false,
     "input": [
      "import statsmodels.api as sm\n",
      "\n",
      "# Reshaping the user_age variable for use in the logit model\n",
      "x = master_df['user_age_x'].reshape(len(master_df['user_age_x']),1)\n",
      "y = master_df['order_ind']\n",
      "\n",
      "# Adding a constant column to the RHS, in order to get back an estimate for the intercept value\n",
      "x = sm.add_constant(x)\n",
      "\n",
      "logit = sm.Logit(y, x)\n",
      "result = logit.fit()\n",
      "print result.summary()"
     ],
     "language": "python",
     "metadata": {},
     "outputs": [
      {
       "output_type": "stream",
       "stream": "stdout",
       "text": [
        "Optimization terminated successfully.\n",
        "         Current function value: 0.629573\n",
        "         Iterations 5\n",
        "                           Logit Regression Results                           \n",
        "==============================================================================\n",
        "Dep. Variable:              order_ind   No. Observations:              1117763\n",
        "Model:                          Logit   Df Residuals:                  1117761\n",
        "Method:                           MLE   Df Model:                            1\n",
        "Date:                Wed, 15 Jul 2015   Pseudo R-squ.:                0.002605\n",
        "Time:                        15:52:05   Log-Likelihood:            -7.0371e+05\n",
        "converged:                       True   LL-Null:                   -7.0555e+05\n",
        "                                        LLR p-value:                     0.000\n",
        "==============================================================================\n",
        "                 coef    std err          z      P>|z|      [95.0% Conf. Int.]\n",
        "------------------------------------------------------------------------------\n",
        "const         -0.6128      0.003   -223.019      0.000        -0.618    -0.607\n",
        "x1            -0.0056   9.47e-05    -59.659      0.000        -0.006    -0.005\n",
        "=============================================================================="
       ]
      },
      {
       "output_type": "stream",
       "stream": "stdout",
       "text": [
        "\n"
       ]
      }
     ],
     "prompt_number": 12
    },
    {
     "cell_type": "markdown",
     "metadata": {},
     "source": [
      "The model parameter for user_age is -0.0056, and it is significant. The sign, however, is in the negative direction. We can interpret this to mean that the probability of ordering decreases with age. This is counter-intuitive to what we would think, and is related to the fact that we did not see any pattern in order behavior as age increases."
     ]
    },
    {
     "cell_type": "markdown",
     "metadata": {},
     "source": [
      "Ultimately, what is missing in this thinking is the amount of ordering a person has done, coupled with their age. This can be summarized in their \"utilization\" rate. Early on, a customer should have a high utilization rate, and we expect them to be more likely to keep ordering, as they are trying out the service. As a customer ages, the utilization rate separates out the customers who are passive and opting out every week from the customers who are continuing to place orders. We would expect the latter to have a high probability of continuing to place orders. Let's take a look at the Logistic Regression with utilization as the dependent variable to see what it tells us."
     ]
    },
    {
     "cell_type": "heading",
     "level": 2,
     "metadata": {},
     "source": [
      "Logistic Regression on Utilization"
     ]
    },
    {
     "cell_type": "code",
     "collapsed": false,
     "input": [
      "import statsmodels.api as sm\n",
      "\n",
      "x = master_df['utilization'].reshape(len(master_df['utilization']),1)\n",
      "y = master_df['order_ind']\n",
      "\n",
      "x = sm.add_constant(x)\n",
      "logit = sm.Logit(y, x)\n",
      "result = logit.fit()\n",
      "print result.summary()"
     ],
     "language": "python",
     "metadata": {},
     "outputs": [
      {
       "output_type": "stream",
       "stream": "stdout",
       "text": [
        "Optimization terminated successfully.\n",
        "         Current function value: 0.493693\n",
        "         Iterations 6\n",
        "                           Logit Regression Results                           \n",
        "==============================================================================\n",
        "Dep. Variable:              order_ind   No. Observations:              1117763\n",
        "Model:                          Logit   Df Residuals:                  1117761\n",
        "Method:                           MLE   Df Model:                            1\n",
        "Date:                Wed, 15 Jul 2015   Pseudo R-squ.:                  0.2179\n",
        "Time:                        15:52:23   Log-Likelihood:            -5.5183e+05\n",
        "converged:                       True   LL-Null:                   -7.0555e+05\n",
        "                                        LLR p-value:                     0.000\n",
        "==============================================================================\n",
        "                 coef    std err          z      P>|z|      [95.0% Conf. Int.]\n",
        "------------------------------------------------------------------------------\n",
        "const         -3.0038      0.006   -539.409      0.000        -3.015    -2.993\n",
        "x1             4.0239      0.008    486.133      0.000         4.008     4.040\n",
        "=============================================================================="
       ]
      },
      {
       "output_type": "stream",
       "stream": "stdout",
       "text": [
        "\n"
       ]
      }
     ],
     "prompt_number": 13
    },
    {
     "cell_type": "markdown",
     "metadata": {},
     "source": [
      "The paramter for Utilization is significant, and in the positive direction. This goes well with our intuition, and this model will be useful for forecasting future demand"
     ]
    },
    {
     "cell_type": "heading",
     "level": 2,
     "metadata": {},
     "source": [
      "Cross-Validation"
     ]
    },
    {
     "cell_type": "markdown",
     "metadata": {},
     "source": [
      "Let's now see how good our \"Utilization Based\" logistic regression model is in predicting future orders, by using 10-fold cross-validation"
     ]
    },
    {
     "cell_type": "code",
     "collapsed": false,
     "input": [
      "from sklearn.linear_model import LogisticRegression\n",
      "from sklearn import metrics\n",
      "from sklearn import cross_validation\n",
      "\n",
      "x = master_df['utilization'].reshape(len(master_df['utilization']),1)\n",
      "y = master_df['order_ind']\n",
      "\n",
      "num_folds = 10\n",
      "num_instances = len(x)\n",
      "kfold = cross_validation.KFold(n=num_instances, n_folds=num_folds)\n",
      "model = LogisticRegression()\n",
      "\n",
      "results = cross_validation.cross_val_score(model, x, y, cv=kfold)\n",
      "print(results)\n",
      "print(results.mean())\n",
      "print(results.std())"
     ],
     "language": "python",
     "metadata": {},
     "outputs": [
      {
       "output_type": "stream",
       "stream": "stdout",
       "text": [
        "[ 0.84319672  0.80805532  0.75196149  0.73539042  0.75046522  0.80219367\n",
        "  0.77092578  0.8243809   0.6948361   0.68240052]\n",
        "0.766380615505\n",
        "0.0508897244324\n"
       ]
      }
     ],
     "prompt_number": 3
    },
    {
     "cell_type": "markdown",
     "metadata": {},
     "source": [
      "Using 10-fold cross validation, we have roughly a 77% accuracy on our test set. This seems reasonable to me, and will provide the foundation for predicting demand in any given week"
     ]
    },
    {
     "cell_type": "heading",
     "level": 2,
     "metadata": {},
     "source": [
      "ROC Curve"
     ]
    },
    {
     "cell_type": "markdown",
     "metadata": {},
     "source": [
      "An ROC curve will evaluate the accuracy of this model at different cutoff thresholds, and the Area Under the Curve will give us one number with which we can compare with competing models."
     ]
    },
    {
     "cell_type": "code",
     "collapsed": false,
     "input": [
      "from sklearn.metrics import roc_curve, auc\n",
      "\n",
      "x = master_df['utilization'].reshape(len(master_df['utilization']),1)\n",
      "y = master_df['order_ind']\n",
      "\n",
      "num_samples, num_features = x.shape\n",
      "\n",
      "half = int(num_samples / 2)\n",
      "\n",
      "x_train, x_test = x[:half], x[half:]\n",
      "y_train, y_test = y[:half], y[half:]\n",
      "\n",
      "classifier = LogisticRegression()\n",
      "probas_ = classifier.fit(x_train, y_train).predict_proba(x_test)\n",
      "\n",
      "# Compute ROC curve and area the curve\n",
      "# fpr is False Positive Rates (x-axis)\n",
      "# tpr is True Positive Rates (y-axis)\n",
      "# thresholds is the various Threshold values that each point represents\n",
      "fpr, tpr, thresholds = roc_curve(y_test, probas_[:, 1])\n",
      "roc_auc = auc(fpr, tpr)\n",
      "print \"Area under the ROC curve : %f\" % roc_auc\n",
      "\n",
      "# Plot ROC curve\n",
      "plt.clf()\n",
      "plt.plot(fpr, tpr, label='ROC curve (area = %0.2f)' % roc_auc)\n",
      "plt.plot([0, 1], [0, 1], 'k--')\n",
      "plt.xlim([0.0, 1.0])\n",
      "plt.ylim([0.0, 1.0])\n",
      "plt.xlabel('False Positive Rate')\n",
      "plt.ylabel('True Positive Rate')\n",
      "plt.title('ROC Curve - Logistic Regression on Utilization')\n",
      "plt.legend(loc=\"lower right\")\n",
      "plt.show()\n"
     ],
     "language": "python",
     "metadata": {},
     "outputs": [
      {
       "output_type": "stream",
       "stream": "stdout",
       "text": [
        "Area under the ROC curve : 0.807098\n"
       ]
      },
      {
       "metadata": {},
       "output_type": "display_data",
       "png": "[encoded data removed]",
       "text": [
        "<matplotlib.figure.Figure at 0x16393a90>"
       ]
      }
     ],
     "prompt_number": 4
    },
    {
     "cell_type": "heading",
     "level": 2,
     "metadata": {},
     "source": [
      "Finding the Optimal Threshold"
     ]
    },
    {
     "cell_type": "markdown",
     "metadata": {},
     "source": [
      "In order to find the optimal point on the ROC curve, I am going to calculate the distance from the point (0,1) to every point given on the curve. The point (0,1) is the point that represents the perfect classifier. Therefore the point on the ROC curve that is closest to (0,1) represents the optimal threshold or cut-off for prediction purposes."
     ]
    },
    {
     "cell_type": "code",
     "collapsed": false,
     "input": [
      "# Use standard euclidean distance formula to calculate distances from (0,1) to each given point on ROC curve\n",
      "distance = np.sqrt((fpr-0)**2 + (tpr-1)**2)\n",
      "\n",
      "# Return the index of the minimum distance value\n",
      "index_min = np.argmin(distance)\n",
      "\n",
      "# Return the threshold value of the corresponding index\n",
      "opt_threshold = thresholds[index_min]\n",
      "\n",
      "print \"The optimal threshold value is : %f\" % opt_threshold"
     ],
     "language": "python",
     "metadata": {},
     "outputs": [
      {
       "output_type": "stream",
       "stream": "stdout",
       "text": [
        "The optimal threshold value is : 0.238713\n"
       ]
      }
     ],
     "prompt_number": 5
    },
    {
     "cell_type": "heading",
     "level": 2,
     "metadata": {},
     "source": [
      "Using the Optimal Threshold and Recalculating Accuracy"
     ]
    },
    {
     "cell_type": "code",
     "collapsed": false,
     "input": [
      "from sklearn.linear_model import LogisticRegression\n",
      "from sklearn import metrics\n",
      "import copy as cp\n",
      "\n",
      "model = LogisticRegression()\n",
      "x = master_df['utilization'].reshape(len(master_df['utilization']),1)\n",
      "y = master_df['order_ind']\n",
      "\n",
      "num_samples, num_features = x.shape\n",
      "tenth = int(num_samples / 10)\n",
      "\n",
      "# Set up evaluation using 90% of data as training, and 10% as test\n",
      "x_test, x_train = x[:tenth], x[tenth:]\n",
      "y_test, y_train = y[:tenth], y[tenth:]\n",
      "\n",
      "classifier = LogisticRegression()\n",
      "probas_ = classifier.fit(x_train, y_train).predict_proba(x_test)\n",
      "\n",
      "# Final Probabilities are the second column of probas_\n",
      "final_probs = cp.deepcopy(probas_[:,1])\n",
      "\n",
      "# Use masking to set values greater than or equal to opt_threshold to 1, rest to 0\n",
      "final_probs[final_probs >= opt_threshold] = 1\n",
      "final_probs[final_probs < opt_threshold] = 0\n",
      "\n",
      "expected = y_test.reshape(len(y_test),1)\n",
      "predicted = final_probs\n",
      "# Convert predicted values to integer in order to pass into metrics methods\n",
      "predicted = predicted.astype(int)\n",
      "\n",
      "conf_mat = metrics.confusion_matrix(expected, predicted)\n",
      "print conf_mat\n",
      "\n",
      "# Convert Confusion Matrix to float in order to compute accuracy\n",
      "conf_mat = conf_mat.astype(float)\n",
      "accuracy = (conf_mat[0,0]+conf_mat[1,1]) / (conf_mat[0,0]+conf_mat[1,1]+conf_mat[1,0]+conf_mat[0,1])\n",
      "print \"Accuracy : %f\" % accuracy \n"
     ],
     "language": "python",
     "metadata": {},
     "outputs": [
      {
       "output_type": "stream",
       "stream": "stdout",
       "text": [
        "[[65448 25411]\n",
        " [ 3526 17391]]\n",
        "Accuracy : 0.741116\n"
       ]
      }
     ],
     "prompt_number": 9
    },
    {
     "cell_type": "heading",
     "level": 2,
     "metadata": {},
     "source": [
      "Implementation and Demand Forecasting"
     ]
    },
    {
     "cell_type": "markdown",
     "metadata": {},
     "source": [
      "Here are the steps to implement this model and forecast demand for a given week:"
     ]
    },
    {
     "cell_type": "markdown",
     "metadata": {},
     "source": [
      "Step 1: Predict a value of Order_Ind = 1 for any customer who is User_Age = 1. This is their first week as a subscriber and they always will receive an order of fish (validated by the data)"
     ]
    },
    {
     "cell_type": "markdown",
     "metadata": {},
     "source": [
      "Step 2: Calculate the utilization rate of all existing customers (# orders / # opportunities to place an order)"
     ]
    },
    {
     "cell_type": "markdown",
     "metadata": {},
     "source": [
      "Step 3: Using the logistic regression model, predict the probability of placing an order based on the customer's utilization rate"
     ]
    },
    {
     "cell_type": "markdown",
     "metadata": {},
     "source": [
      "\\begin{equation*}\n",
      "p(x)   = \\frac{e^{-3.0038+4.0239x}}{1+e^{-3.0038+4.0239x}}\n",
      "\\end{equation*}"
     ]
    },
    {
     "cell_type": "markdown",
     "metadata": {},
     "source": [
      "Step 4: Use the cutoff threshold of 0.2387 to either predict a '1' or '0' for order_ind. If Probability > 0.2387, Order_Ind = 1"
     ]
    },
    {
     "cell_type": "markdown",
     "metadata": {},
     "source": [
      "Step 5: Sum up all of the Order_Ind = 1 values (including those from Step 1). This is the Fish order forecast for the week."
     ]
    },
    {
     "cell_type": "heading",
     "level": 2,
     "metadata": {},
     "source": [
      "Addendum"
     ]
    },
    {
     "cell_type": "markdown",
     "metadata": {},
     "source": [
      "In addition to Logistic Regression, I tried a variety of other classification techniques, but did not find any of them to provide much better results than the Logistic Regression. "
     ]
    },
    {
     "cell_type": "markdown",
     "metadata": {},
     "source": [
      "For example, Linear Discriminant Analysis did not provide much better results (see below). I also tried K-Nearest Neighbor and Support Vector Machines (SVM) techniques, and did not see much improvement on results."
     ]
    },
    {
     "cell_type": "heading",
     "level": 5,
     "metadata": {},
     "source": [
      "Linear Discriminant Analysis (Assumes equal variance in each class)"
     ]
    },
    {
     "cell_type": "code",
     "collapsed": false,
     "input": [
      "from sklearn.lda import LDA\n",
      "\n",
      "model = LDA()\n",
      "x = master_df['utilization'].reshape(len(master_df['utilization']),1)\n",
      "y = master_df['order_ind']\n",
      "model.fit(x, y)\n",
      "\n",
      "expected = y.reshape(len(y),1)\n",
      "predicted = model.predict(x)\n",
      "\n",
      "print(metrics.classification_report(expected, predicted))\n",
      "print(metrics.confusion_matrix(expected, predicted))\n",
      "\n",
      "conf_matrix = metrics.confusion_matrix(expected, predicted)\n",
      "conf_mat = conf_mat.astype(float)\n",
      "\n",
      "accuracy = (conf_mat[0,0]+conf_mat[1,1]) / (conf_mat[0,0]+conf_mat[1,1]+conf_mat[1,0]+conf_mat[0,1])\n",
      "print accuracy"
     ],
     "language": "python",
     "metadata": {},
     "outputs": [
      {
       "output_type": "stream",
       "stream": "stdout",
       "text": [
        "             precision    recall  f1-score   support\n",
        "\n",
        "          0       0.81      0.86      0.83    753515\n",
        "          1       0.67      0.58      0.62    364248\n",
        "\n",
        "avg / total       0.76      0.77      0.76   1117763\n",
        "\n",
        "[[648550 104965]\n",
        " [152893 211355]]"
       ]
      },
      {
       "output_type": "stream",
       "stream": "stdout",
       "text": [
        "\n",
        "0.741116160893"
       ]
      },
      {
       "output_type": "stream",
       "stream": "stdout",
       "text": [
        "\n"
       ]
      }
     ],
     "prompt_number": 18
    }
   ],
   "metadata": {}
  }
 ]
}
